{
  "nbformat": 4,
  "nbformat_minor": 0,
  "metadata": {
    "colab": {
      "provenance": [],
      "collapsed_sections": [
        "LZ7Ic4cdgJl9"
      ],
      "mount_file_id": "1uOWG0l8KaXdhiDffkEl61dWQyyJrOdL7",
      "authorship_tag": "ABX9TyOeGiCm7AN18A9JahKS0iZD",
      "include_colab_link": true
    },
    "kernelspec": {
      "name": "python3",
      "display_name": "Python 3"
    },
    "language_info": {
      "name": "python"
    }
  },
  "cells": [
    {
      "cell_type": "markdown",
      "metadata": {
        "id": "view-in-github",
        "colab_type": "text"
      },
      "source": [
        "<a href=\"https://colab.research.google.com/github/ArthurrBernardes/AER-O-G-well-analysis/blob/main/comparing-abandoned-wells-count-and-average.ipynb\" target=\"_parent\"><img src=\"https://colab.research.google.com/assets/colab-badge.svg\" alt=\"Open In Colab\"/></a>"
      ]
    },
    {
      "cell_type": "markdown",
      "source": [
        "# Risk Matrix for AER O&G wells in Alberta#"
      ],
      "metadata": {
        "id": "GArJGWH-bCP-"
      }
    },
    {
      "cell_type": "markdown",
      "source": [
        "## Risk Matrix"
      ],
      "metadata": {
        "id": "9PeGkAn5f-ip"
      }
    },
    {
      "cell_type": "markdown",
      "source": [
        "![picture](https://drive.google.com/uc?id=15CLh2GKnvG_rY_HaC8TxdDoTyiCSPHtq)"
      ],
      "metadata": {
        "id": "811ouJFfbsPJ"
      }
    },
    {
      "cell_type": "markdown",
      "source": [
        "## Reginal Abandonment Cost"
      ],
      "metadata": {
        "id": "LZ7Ic4cdgJl9"
      }
    },
    {
      "cell_type": "markdown",
      "source": [
        "![picture](https://drive.google.com/uc?id=1dZJ-mIXZvWkbc7XLPrhC-mRPjY3_PkaU)"
      ],
      "metadata": {
        "id": "0FYrLllEgVAj"
      }
    },
    {
      "cell_type": "markdown",
      "source": [
        "![picture](https://drive.google.com/uc?id=1deBTYSyUBJ0jk2ggETAolLaLvta96rUF)"
      ],
      "metadata": {
        "id": "AQnpsEuLge-I"
      }
    },
    {
      "cell_type": "markdown",
      "source": [
        "## Code"
      ],
      "metadata": {
        "id": "ACDX4VA8gEFi"
      }
    },
    {
      "cell_type": "code",
      "execution_count": null,
      "metadata": {
        "id": "a2qiQagGUcIX"
      },
      "outputs": [],
      "source": [
        "import pandas as pd\n",
        "import matplotlib.pyplot as plt\n",
        "import seaborn as sns"
      ]
    },
    {
      "cell_type": "code",
      "source": [
        "data = pd.read_csv(\"OWA AER.csv\")"
      ],
      "metadata": {
        "id": "Ojm2zjm5UqV5"
      },
      "execution_count": null,
      "outputs": []
    },
    {
      "cell_type": "code",
      "source": [
        "# subset the data to include only Abandoned, Suspended, Commingled, and Drilled & Cased\n",
        "sub_data = data[data['status'].isin(['Abandoned', 'Suspended', 'Commingled', 'Drilled & Cased'])]"
      ],
      "metadata": {
        "id": "SkxhbKN5UzrP"
      },
      "execution_count": null,
      "outputs": []
    },
    {
      "cell_type": "code",
      "source": [
        "# count the number of wells for each status\n",
        "status_counts = sub_data['status'].value_counts()"
      ],
      "metadata": {
        "id": "8bCTziiJU2wP"
      },
      "execution_count": null,
      "outputs": []
    },
    {
      "cell_type": "markdown",
      "source": [
        "### Gerenating a Bar Plot for the well count of how many Suspended, Abandoned, Commingled and Dilled & Case O&G wells we have"
      ],
      "metadata": {
        "id": "pAdw7J4XVmKn"
      }
    },
    {
      "cell_type": "code",
      "source": [
        "# create a bar plot\n",
        "plt.bar(status_counts.index, status_counts.values)\n",
        "\n",
        "# set axis labels and title\n",
        "plt.xlabel('Status')\n",
        "plt.ylabel('Count')\n",
        "plt.title('Count of Wells by Status')"
      ],
      "metadata": {
        "colab": {
          "base_uri": "https://localhost:8080/",
          "height": 312
        },
        "id": "zyn5EJ2JU5MK",
        "outputId": "eb601922-b439-4918-96b5-6dc29ce5bc97"
      },
      "execution_count": null,
      "outputs": [
        {
          "output_type": "execute_result",
          "data": {
            "text/plain": [
              "Text(0.5, 1.0, 'Count of Wells by Status')"
            ]
          },
          "metadata": {},
          "execution_count": 8
        },
        {
          "output_type": "display_data",
          "data": {
            "text/plain": [
              "<Figure size 432x288 with 1 Axes>"
            ],
            "image/png": "[encoded data removed]"
          },
          "metadata": {
            "needs_background": "light"
          }
        }
      ]
    },
    {
      "cell_type": "markdown",
      "source": [
        "### Now ploting a Line Plot for Total Score mean of the wells"
      ],
      "metadata": {
        "id": "Fqtx4O-7V7vS"
      }
    },
    {
      "cell_type": "code",
      "source": [
        "# add total score column to the plot\n",
        "plt.twinx()\n",
        "plt.plot(sub_data.groupby('status')['total score'].mean(), linestyle='-', marker='o', color='red', label='Mean Total Score')\n",
        "plt.ylabel('Mean Total Score')\n",
        "plt.legend()"
      ],
      "metadata": {
        "colab": {
          "base_uri": "https://localhost:8080/",
          "height": 286
        },
        "id": "ckCpvRzGU7fd",
        "outputId": "70e52c51-1ec6-4511-da30-457878d8c6e6"
      },
      "execution_count": null,
      "outputs": [
        {
          "output_type": "execute_result",
          "data": {
            "text/plain": [
              "<matplotlib.legend.Legend at 0x7fda64e102b0>"
            ]
          },
          "metadata": {},
          "execution_count": 9
        },
        {
          "output_type": "display_data",
          "data": {
            "text/plain": [
              "<Figure size 432x288 with 2 Axes>"
            ],
            "image/png": "[encoded data removed]"
          },
          "metadata": {
            "needs_background": "light"
          }
        }
      ]
    },
    {
      "cell_type": "code",
      "source": [],
      "metadata": {
        "id": "tL6S-qKcVCnW"
      },
      "execution_count": null,
      "outputs": []
    },
    {
      "cell_type": "markdown",
      "source": [
        "### Code for both Graphs"
      ],
      "metadata": {
        "id": "yrVnSML-htAJ"
      }
    },
    {
      "cell_type": "markdown",
      "source": [
        "As we can see, we have: \n",
        "*  A Bar Plot for Well Count of 'Abandoned', 'Suspended', 'Commingled' and 'Drilled & Cased'\n",
        "*  A Line Plot with the Average Risk Score by 'Abandoned', 'Suspended', 'Commingled' and 'Drilled & Cased'\n",
        "\n"
      ],
      "metadata": {
        "id": "xhtzmWlwVeGm"
      }
    },
    {
      "cell_type": "code",
      "source": [
        "# joining both graphs\n",
        "plt.bar(status_counts.index, status_counts.values)\n",
        "plt.xlabel('Status')\n",
        "plt.ylabel('Count')\n",
        "plt.title('Count of Wells by Status')\n",
        "\n",
        "plt.twinx()\n",
        "plt.plot(sub_data.groupby('status')['total score'].mean(), linestyle='-', marker='o', color='red', label='Mean Total Score')\n",
        "plt.ylabel('Mean Total Score')\n",
        "plt.legend()\n",
        "\n"
      ],
      "metadata": {
        "id": "KKhyG_d9VTDs",
        "colab": {
          "base_uri": "https://localhost:8080/",
          "height": 312
        },
        "outputId": "e140a865-8574-4530-fc33-09999540f0f0"
      },
      "execution_count": 13,
      "outputs": [
        {
          "output_type": "execute_result",
          "data": {
            "text/plain": [
              "<matplotlib.legend.Legend at 0x7fda641352e0>"
            ]
          },
          "metadata": {},
          "execution_count": 13
        },
        {
          "output_type": "display_data",
          "data": {
            "text/plain": [
              "<Figure size 432x288 with 2 Axes>"
            ],
            "image/png": "[encoded data removed]"
          },
          "metadata": {
            "needs_background": "light"
          }
        }
      ]
    },
    {
      "cell_type": "markdown",
      "source": [
        "This concludes that, the average of all wells are not so far.\n",
        "As we have more Abandoned Wells and the average of them is around 1540, they present some of the most risky wells.\n",
        "Keeping in mind that Risk Score from 1200 to 2000 are considered medium-high risk"
      ],
      "metadata": {
        "id": "dgAfQlOSiWht"
      }
    }
  ]
}